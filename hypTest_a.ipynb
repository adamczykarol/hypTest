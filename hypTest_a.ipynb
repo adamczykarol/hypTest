{
  "cells": [
    {
      "cell_type": "markdown",
      "id": "017edc9b",
      "metadata": {
        "id": "017edc9b"
      },
      "source": [
        "<a href=\"https://colab.research.google.com/github/adamczykarol/hypTest/blob/main/hypTest_a.ipynb\">\n",
        "<img src=\"https://colab.research.google.com/assets/colab-badge.svg\" alt=\"Open In Colab\">\n",
        "</a>"
      ]
    },
    {
      "cell_type": "code",
      "execution_count": null,
      "id": "90102f99",
      "metadata": {
        "id": "90102f99"
      },
      "outputs": [],
      "source": [
        "!pip install iminuit"
      ]
    },
    {
      "cell_type": "code",
      "execution_count": null,
      "id": "a0760dc6",
      "metadata": {
        "id": "a0760dc6"
      },
      "outputs": [],
      "source": [
        "# Program to find measure of expected significance as a function\n",
        "# of a cut value x_cut applied to measured variable x.\n",
        "# G. Cowan / RHUL Physics / December 2022\n",
        "\n",
        "import numpy as np\n",
        "import scipy.stats as stats\n",
        "import matplotlib.pyplot as plt\n",
        "plt.rcParams[\"font.size\"] = 14"
      ]
    },
    {
      "cell_type": "code",
      "execution_count": null,
      "id": "d89bbf65",
      "metadata": {
        "id": "d89bbf65"
      },
      "outputs": [],
      "source": [
        "#  Plot the pdfs\n",
        "def f_s(x):\n",
        "    return 3.*(1-x)**2\n",
        "def f_b(x):\n",
        "    return 3.*x**2\n",
        "x = np.linspace(0., 1., 201)\n",
        "fs = f_s(x)\n",
        "fb = f_b(x)\n",
        "fig = plt.figure(figsize=(5,5))\n",
        "plt.plot(x, fs, color='orange', label=r'$f(x|s)$')\n",
        "plt.plot(x, fb, color='dodgerblue', label=r'$f(x|b)$')\n",
        "plt.xlabel(r'$x$')\n",
        "plt.ylabel(r'$f(x)$')\n",
        "plt.xlim(0., 1.)\n",
        "plt.ylim(0., 3.)\n",
        "plt.legend(loc='upper center', frameon=False)\n",
        "plt.subplots_adjust(left=0.15, right=0.9, top=0.9, bottom=0.15)\n",
        "plt.show()"
      ]
    },
    {
      "cell_type": "code",
      "execution_count": null,
      "id": "9cc36ec5",
      "metadata": {
        "id": "9cc36ec5"
      },
      "outputs": [],
      "source": [
        "# Add code here:\n",
        "\n",
        "# Find x_cut for size alpha = 0.05\n",
        "\n",
        "\n",
        "# Find power with respect to s hypothesis for this x_cut\n",
        "\n",
        "\n",
        "# Calculate s, b, signficance for x_cut=0.1, s_tot=10, b_tot=100\n",
        "\n",
        "\n",
        "# Find s, b, significance versus x_cut\n",
        "\n",
        "\n",
        "# Plot s, b versus x_cut\n",
        "\n",
        "\n",
        "# Plot Z_A versus x_cut\n",
        "\n",
        "\n",
        "# Find x_cut that maximizes Z_A\n",
        "\n",
        "\n",
        "# Repeat for case where b is uncertain\n",
        "\n"
      ]
    },
    {
      "cell_type": "code",
      "execution_count": null,
      "id": "ca80f2b3",
      "metadata": {
        "id": "ca80f2b3"
      },
      "outputs": [],
      "source": []
    }
  ],
  "metadata": {
    "kernelspec": {
      "display_name": "Python 3 (ipykernel)",
      "language": "python",
      "name": "python3"
    },
    "language_info": {
      "codemirror_mode": {
        "name": "ipython",
        "version": 3
      },
      "file_extension": ".py",
      "mimetype": "text/x-python",
      "name": "python",
      "nbconvert_exporter": "python",
      "pygments_lexer": "ipython3",
      "version": "3.8.15"
    },
    "colab": {
      "provenance": []
    }
  },
  "nbformat": 4,
  "nbformat_minor": 5
}
